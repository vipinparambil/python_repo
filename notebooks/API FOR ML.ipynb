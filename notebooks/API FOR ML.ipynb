{
 "cells": [
  {
   "cell_type": "code",
   "execution_count": 6,
   "metadata": {},
   "outputs": [],
   "source": [
    "import os\n",
    "machine_learning_api_script = os.path.join(os.path.pardir, \"src\" ,\"models\", 'machine_learning_api.py') "
   ]
  },
  {
   "cell_type": "code",
   "execution_count": 106,
   "metadata": {},
   "outputs": [
    {
     "name": "stdout",
     "output_type": "stream",
     "text": [
      "Overwriting ..\\src\\models\\machine_learning_api.py\n"
     ]
    }
   ],
   "source": [
    "%%writefile $machine_learning_api_script\n",
    "\n",
    "from flask import Flask,request\n",
    "import pandas as pd\n",
    "import os\n",
    "import numpy as np\n",
    "import pickle\n",
    "import json\n",
    "\n",
    "app =Flask(__name__)\n",
    "\n",
    "model_path = os.path.join(os.path.pardir,os.path.pardir,'models')\n",
    "\n",
    "model_file_path = os.path.join(model_path, 'lr_model.pkl')\n",
    "\n",
    "saclar_file_path = os.path.join(model_path, 'lr_scaler.pkl')\n",
    "\n",
    "#Import Model\n",
    "with open(model_file_path, 'rb') as file:\n",
    "    model = pickle.load(file)\n",
    "\n",
    "with open(saclar_file_path, 'rb') as file:\n",
    "    scalar = pickle.load(file)\n",
    "\n",
    "# columns\n",
    "columns = [ u'Age', u'Fare', u'FamilySize', \\\n",
    "       u'IsMother', u'IsMale', u'Deck_A', u'Deck_B', u'Deck_C', u'Deck_D', \\\n",
    "       u'Deck_E', u'Deck_F', u'Deck_G', u'Deck_Z', u'Pclass_1', u'Pclass_2', \\\n",
    "       u'Pclass_3', u'Title_Lady', u'Title_Master', u'Title_Miss', u'Title_Mr', \\\n",
    "       u'Title_Mrs', u'Title_Officer', u'Title_Sir', u'Fare_Bin_very_low', \\\n",
    "       u'Fare_Bin_low', u'Fare_Bin_high', u'Fare_Bin_very_high', u'Embarked_C', \\\n",
    "       u'Embarked_Q', u'Embarked_S', u'AgeState_Adult', u'AgeState_Child'] \n",
    "\n",
    "#prediction api\n",
    "@app.route('/api', methods=['POST'])\n",
    "def make_prediction():\n",
    "    # read json object and conver to json string\n",
    "    data = request.get_json()\n",
    "    # create pandas dataframe using json string\n",
    "    df = pd.read_json(data)\n",
    "    # extract passengerIds\n",
    "    #passenger_ids = df['PassengerId'].ravel()\n",
    "    # actual survived values\n",
    "    actuals = df['Survived'].ravel()\n",
    "    # extract required columns based and convert to matrix\n",
    "    X = df[columns].values.astype('float')\n",
    "    # transform the input\n",
    "    X_scaled = scalar.transform(X)\n",
    "    # make predictions\n",
    "    predictions = model.predict(X_scaled)\n",
    "    # create response dataframe\n",
    "    df_response = pd.DataFrame({'Predicted' : predictions, 'Actual' : actuals})\n",
    "    # return json \n",
    "    return df_response.to_json()\n",
    "\n",
    "if __name__ == '__main__':\n",
    "     app.run(host = '0.0.0.0', port = 10001, debug=False)\n",
    "    \n"
   ]
  },
  {
   "cell_type": "markdown",
   "metadata": {},
   "source": [
    "## Call the API"
   ]
  },
  {
   "cell_type": "code",
   "execution_count": 24,
   "metadata": {},
   "outputs": [],
   "source": [
    "import os\n",
    "import pandas as pd"
   ]
  },
  {
   "cell_type": "code",
   "execution_count": 25,
   "metadata": {},
   "outputs": [],
   "source": [
    "#create data\n",
    "\n",
    "processed_data_path = os.path.join(os.path.pardir, 'data','processed')\n",
    "train_file_path = os.path.join(processed_data_path, 'train.csv')\n",
    "\n",
    "df = pd.read_csv(train_file_path, index_col = 'PassengerId')\n",
    "\n"
   ]
  },
  {
   "cell_type": "code",
   "execution_count": 87,
   "metadata": {},
   "outputs": [
    {
     "data": {
      "text/plain": [
       "'{\"2\":{\"Survived\":1,\"Age\":38.0,\"Fare\":71.2833,\"FamilySize\":2,\"IsMother\":0,\"IsMale\":0,\"Deck_A\":0,\"Deck_B\":0,\"Deck_C\":1,\"Deck_D\":0,\"Deck_E\":0,\"Deck_F\":0,\"Deck_G\":0,\"Deck_Z\":0,\"Pclass_1\":1,\"Pclass_2\":0,\"Pclass_3\":0,\"Title_Lady\":0,\"Title_Master\":0,\"Title_Miss\":0,\"Title_Mr\":0,\"Title_Mrs\":1,\"Title_Officer\":0,\"Title_Sir\":0,\"Fare_Bin_very_low\":0,\"Fare_Bin_low\":0,\"Fare_Bin_high\":0,\"Fare_Bin_very_high\":1,\"Embarked_C\":1,\"Embarked_Q\":0,\"Embarked_S\":0,\"AgeState_Adult\":1,\"AgeState_Child\":0},\"3\":{\"Survived\":1,\"Age\":26.0,\"Fare\":7.925,\"FamilySize\":1,\"IsMother\":0,\"IsMale\":0,\"Deck_A\":0,\"Deck_B\":0,\"Deck_C\":0,\"Deck_D\":0,\"Deck_E\":0,\"Deck_F\":0,\"Deck_G\":0,\"Deck_Z\":1,\"Pclass_1\":0,\"Pclass_2\":0,\"Pclass_3\":1,\"Title_Lady\":0,\"Title_Master\":0,\"Title_Miss\":1,\"Title_Mr\":0,\"Title_Mrs\":0,\"Title_Officer\":0,\"Title_Sir\":0,\"Fare_Bin_very_low\":0,\"Fare_Bin_low\":1,\"Fare_Bin_high\":0,\"Fare_Bin_very_high\":0,\"Embarked_C\":0,\"Embarked_Q\":0,\"Embarked_S\":1,\"AgeState_Adult\":1,\"AgeState_Child\":0}}'"
      ]
     },
     "execution_count": 87,
     "metadata": {},
     "output_type": "execute_result"
    }
   ],
   "source": [
    "survived_passengers = df[df.Survived == 1][:2]\n",
    "\n",
    "# 5 survived passengers\n",
    "survived_passengers.to_json(orient='index')"
   ]
  },
  {
   "cell_type": "markdown",
   "metadata": {},
   "source": [
    "## Make Api call"
   ]
  },
  {
   "cell_type": "code",
   "execution_count": 27,
   "metadata": {},
   "outputs": [],
   "source": [
    "import requests"
   ]
  },
  {
   "cell_type": "code",
   "execution_count": 60,
   "metadata": {},
   "outputs": [],
   "source": [
    "def make_api_requets(data):\n",
    "    post_url = 'http://127.0.0.1:5000/api/v1'\n",
    "    r = requests.post(url=post_url, json=data.to_json())\n",
    "    return r.json()  "
   ]
  },
  {
   "cell_type": "code",
   "execution_count": 105,
   "metadata": {},
   "outputs": [
    {
     "data": {
      "text/html": [
       "<div>\n",
       "<style scoped>\n",
       "    .dataframe tbody tr th:only-of-type {\n",
       "        vertical-align: middle;\n",
       "    }\n",
       "\n",
       "    .dataframe tbody tr th {\n",
       "        vertical-align: top;\n",
       "    }\n",
       "\n",
       "    .dataframe thead th {\n",
       "        text-align: right;\n",
       "    }\n",
       "</style>\n",
       "<table border=\"1\" class=\"dataframe\">\n",
       "  <thead>\n",
       "    <tr style=\"text-align: right;\">\n",
       "      <th></th>\n",
       "      <th>Predicted</th>\n",
       "      <th>Actual</th>\n",
       "    </tr>\n",
       "  </thead>\n",
       "  <tbody>\n",
       "    <tr>\n",
       "      <th>0</th>\n",
       "      <td>1</td>\n",
       "      <td>1</td>\n",
       "    </tr>\n",
       "    <tr>\n",
       "      <th>1</th>\n",
       "      <td>1</td>\n",
       "      <td>1</td>\n",
       "    </tr>\n",
       "  </tbody>\n",
       "</table>\n",
       "</div>"
      ],
      "text/plain": [
       "   Predicted  Actual\n",
       "0          1       1\n",
       "1          1       1"
      ]
     },
     "execution_count": 105,
     "metadata": {},
     "output_type": "execute_result"
    }
   ],
   "source": [
    "#print(make_api_requets(survived_passengers.all())\n",
    "post_url = 'http://127.0.0.1:10001/api'\n",
    "r = requests.post(url=post_url, json=survived_passengers.to_json())\n",
    "pdf = pd.read_json(json.dumps(r.json()))\n",
    "\n",
    "pdf.head(5)\n"
   ]
  },
  {
   "cell_type": "code",
   "execution_count": 103,
   "metadata": {},
   "outputs": [
    {
     "data": {
      "text/html": [
       "<div>\n",
       "<style scoped>\n",
       "    .dataframe tbody tr th:only-of-type {\n",
       "        vertical-align: middle;\n",
       "    }\n",
       "\n",
       "    .dataframe tbody tr th {\n",
       "        vertical-align: top;\n",
       "    }\n",
       "\n",
       "    .dataframe thead th {\n",
       "        text-align: right;\n",
       "    }\n",
       "</style>\n",
       "<table border=\"1\" class=\"dataframe\">\n",
       "  <thead>\n",
       "    <tr style=\"text-align: right;\">\n",
       "      <th></th>\n",
       "      <th>Predicted</th>\n",
       "      <th>Actual</th>\n",
       "    </tr>\n",
       "  </thead>\n",
       "  <tbody>\n",
       "    <tr>\n",
       "      <th>0</th>\n",
       "      <td>0</td>\n",
       "      <td>0</td>\n",
       "    </tr>\n",
       "    <tr>\n",
       "      <th>1</th>\n",
       "      <td>1</td>\n",
       "      <td>1</td>\n",
       "    </tr>\n",
       "    <tr>\n",
       "      <th>10</th>\n",
       "      <td>0</td>\n",
       "      <td>1</td>\n",
       "    </tr>\n",
       "    <tr>\n",
       "      <th>100</th>\n",
       "      <td>1</td>\n",
       "      <td>0</td>\n",
       "    </tr>\n",
       "    <tr>\n",
       "      <th>101</th>\n",
       "      <td>0</td>\n",
       "      <td>0</td>\n",
       "    </tr>\n",
       "  </tbody>\n",
       "</table>\n",
       "</div>"
      ],
      "text/plain": [
       "     Predicted  Actual\n",
       "0            0       0\n",
       "1            1       1\n",
       "10           0       1\n",
       "100          1       0\n",
       "101          0       0"
      ]
     },
     "execution_count": 103,
     "metadata": {},
     "output_type": "execute_result"
    }
   ],
   "source": [
    "post_url = 'http://127.0.0.1:10001/api'\n",
    "r = requests.post(url=post_url, json=df.to_json())\n",
    "\n",
    "\n",
    "pdf = pd.read_json(json.dumps(r.json()))\n",
    "\n",
    "pdf.head(5)"
   ]
  },
  {
   "cell_type": "code",
   "execution_count": 104,
   "metadata": {},
   "outputs": [
    {
     "data": {
      "text/plain": [
       "0.8383838383838383"
      ]
     },
     "execution_count": 104,
     "metadata": {},
     "output_type": "execute_result"
    }
   ],
   "source": [
    "np.mean(pdf.Actual == pdf.Predicted)"
   ]
  },
  {
   "cell_type": "code",
   "execution_count": null,
   "metadata": {},
   "outputs": [],
   "source": []
  }
 ],
 "metadata": {
  "kernelspec": {
   "display_name": "Python 3",
   "language": "python",
   "name": "python3"
  },
  "language_info": {
   "codemirror_mode": {
    "name": "ipython",
    "version": 3
   },
   "file_extension": ".py",
   "mimetype": "text/x-python",
   "name": "python",
   "nbconvert_exporter": "python",
   "pygments_lexer": "ipython3",
   "version": "3.7.3"
  }
 },
 "nbformat": 4,
 "nbformat_minor": 2
}
