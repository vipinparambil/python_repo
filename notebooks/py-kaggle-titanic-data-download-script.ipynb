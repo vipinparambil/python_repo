{
 "cells": [
  {
   "cell_type": "markdown",
   "metadata": {},
   "source": [
    "# Download the titanic data set from Kaggle site"
   ]
  },
  {
   "cell_type": "markdown",
   "metadata": {},
   "source": [
    "### install python-dotenv"
   ]
  },
  {
   "cell_type": "code",
   "execution_count": 2,
   "metadata": {},
   "outputs": [
    {
     "name": "stdout",
     "output_type": "stream",
     "text": [
      "Requirement already satisfied: python-dotenv in c:\\program files (x86)\\python37-32\\lib\\site-packages (0.10.3)\n"
     ]
    },
    {
     "name": "stderr",
     "output_type": "stream",
     "text": [
      "You are using pip version 19.0.3, however version 19.1.1 is available.\n",
      "You should consider upgrading via the 'python -m pip install --upgrade pip' command.\n"
     ]
    }
   ],
   "source": [
    "#!pip3 install python-dotenv"
   ]
  },
  {
   "cell_type": "code",
   "execution_count": 3,
   "metadata": {},
   "outputs": [],
   "source": [
    "from dotenv import load_dotenv, find_dotenv"
   ]
  },
  {
   "cell_type": "code",
   "execution_count": 4,
   "metadata": {},
   "outputs": [
    {
     "data": {
      "text/plain": [
       "True"
      ]
     },
     "execution_count": 4,
     "metadata": {},
     "output_type": "execute_result"
    }
   ],
   "source": [
    "#### find the .env file from the directories\n",
    "\n",
    "dotenv_path = find_dotenv()\n",
    "\n",
    "##### load the env file \n",
    "load_dotenv(dotenv_path)"
   ]
  },
  {
   "cell_type": "code",
   "execution_count": 7,
   "metadata": {},
   "outputs": [
    {
     "data": {
      "text/plain": [
       "'vipinparambil'"
      ]
     },
     "execution_count": 7,
     "metadata": {},
     "output_type": "execute_result"
    }
   ],
   "source": [
    "### extarct env variable using os path\n",
    "\n",
    "import os\n",
    "\n",
    "username = os.environ.get(\"KAGGLE_USERNAME\")\n",
    "\n",
    "username"
   ]
  },
  {
   "cell_type": "markdown",
   "metadata": {},
   "source": [
    "### Read data from the Kaggle site"
   ]
  },
  {
   "cell_type": "code",
   "execution_count": 22,
   "metadata": {},
   "outputs": [],
   "source": [
    "import requests\n",
    "from requests import session\n"
   ]
  },
  {
   "cell_type": "code",
   "execution_count": 77,
   "metadata": {},
   "outputs": [
    {
     "name": "stdout",
     "output_type": "stream",
     "text": [
      "{'Date': 'Fri, 12 Jul 2019 15:03:56 GMT', 'Content-Type': 'text/html; charset=utf-8', 'Cache-Control': 'no-cache, no-store', 'Pragma': 'no-cache', 'Content-Encoding': 'gzip', 'Set-Cookie': 'CSRF-TOKEN=CfDJ8LdUzqlsSWBPr4Ce3rb9VL-EzvcktudzQErk_nQPvrroRMsxBpRUjKhK8rXonONRjZCSqYtSJoeL0fF3fgNIZBqO1kpyilg2s-bvvBvoocf9OB-Z7_MBheariT3zUiN1Eb1bC-OaDIiDPkfJc_6zceg; path=/; secure; httponly, XSRF-TOKEN=CfDJ8LdUzqlsSWBPr4Ce3rb9VL9XFWLWf4Z2w9_GHF5SZrB7iU7Z57z0fLtKMmkrgi0NsG4GyKH9po6E7-1-G9B7h0vzOYgfLaFt1331sGmKmNhGXWo2FK0wOw-_hR9G9r8SeKXgbErtm8ghcbmUd-30-Fk; path=/, .AspNetCore.Mvc.CookieTempDataProvider=; expires=Thu, 01 Jan 1970 00:00:00 GMT; path=/; samesite=lax', 'Vary': 'Accept-Encoding', 'Turbolinks-Location': 'https://www.kaggle.com/account/login?ReturnUrl=%2Fc%2Ftitanic%2Fdownload%2Ftrain.csv', 'X-Frame-Options': 'SAMEORIGIN', 'Referrer-Policy': 'strict-origin-when-cross-origin', 'Via': '1.1 google', 'Alt-Svc': 'clear', 'Transfer-Encoding': 'chunked'}\n"
     ]
    }
   ],
   "source": [
    "### post pay load\n",
    "\n",
    "payload ={\n",
    "    \"action\":\"login\",\n",
    "    \"username\": os.environ.get(\"KAGGLE_USERNAME\"),\n",
    "    \"password\": os.environ.get(\"KAGGLE_PASSWORD\")    \n",
    "}\n",
    "\n",
    "\n",
    "### url for test.csv\n",
    "url = \"https://www.kaggle.com/c/titanic/download/train.csv\"\n",
    "\n",
    "### create a sesion \n",
    "with session() as c:\n",
    "    c.post(\"https://www.kaggle.com/account/login\", data=payload)\n",
    "    response = c.get(url)\n",
    "    print(response.headers)\n",
    "    "
   ]
  },
  {
   "cell_type": "code",
   "execution_count": null,
   "metadata": {},
   "outputs": [],
   "source": []
  },
  {
   "cell_type": "code",
   "execution_count": 45,
   "metadata": {},
   "outputs": [],
   "source": [
    "### Read Data and write file\n",
    "\n",
    "import requests \n",
    "\n",
    "from requests import session\n",
    "\n",
    "payload ={\n",
    "    \"action\":\"login\",\n",
    "    \"username\": os.environ.get(\"KAGGLE_USERNAME\"),\n",
    "    \"password\": os.environ.get(\"KAGGLE_PASSWORD\")\n",
    "}\n",
    "\n",
    "\n",
    "def extract_data(url, file_path):\n",
    "    #setup session\n",
    "    with session() as c:\n",
    "        c.post(\"https://www.kaggle.com/account/login\", data = payload)\n",
    "        with open(file_path,'w') as f:\n",
    "            result = c.get(url, stream=True) ## read in stream line\n",
    "            for data in result.iter_content(1024):\n",
    "                f.write(data.decode('utf-8'))\n",
    "\n",
    "    \n"
   ]
  },
  {
   "cell_type": "code",
   "execution_count": 46,
   "metadata": {},
   "outputs": [],
   "source": [
    "## URLS\n",
    "train_url = \"https://www.kaggle.com/c/titanic/download/train.csv\"\n",
    "test_url = \"https://www.kaggle.com/c/titanic/download/test.csv\""
   ]
  },
  {
   "cell_type": "code",
   "execution_count": 47,
   "metadata": {},
   "outputs": [],
   "source": [
    "### Raw folder path in project data folder data/raw\n",
    "\n",
    "##file paths\n",
    "\n",
    "raw_data_path = os.path.join(os.path.pardir, \"data\", \"raw\")\n",
    "tarin_csv_path = os.path.join(raw_data_path, \"train.csv\")\n",
    "test_csv_path = os.path.join(raw_data_path, \"test.csv\")\n",
    "\n",
    "### dwonload an write the file\n",
    "\n",
    "extract_data(train_url, tarin_csv_path)\n",
    "extract_data(test_url, test_csv_path)"
   ]
  },
  {
   "cell_type": "code",
   "execution_count": 48,
   "metadata": {},
   "outputs": [
    {
     "name": "stdout",
     "output_type": "stream",
     "text": [
      "total 24\n",
      "-rw-r--r-- 1 50520484 1049089 10191 Jul 12 19:46 test.csv\n",
      "-rw-r--r-- 1 50520484 1049089 10191 Jul 12 19:46 train.csv\n"
     ]
    }
   ],
   "source": [
    "###list files\n",
    "!ls -l ../data/raw"
   ]
  },
  {
   "cell_type": "markdown",
   "metadata": {},
   "source": [
    "# Build the functionality as a Script"
   ]
  },
  {
   "cell_type": "code",
   "execution_count": 66,
   "metadata": {},
   "outputs": [],
   "source": [
    "### creating the script file\n",
    "\n",
    "get_raw_data_script = os.path.join(os.path.pardir, \"src\", \"data\", \"get_titanic_raw_data_script.py\")"
   ]
  },
  {
   "cell_type": "code",
   "execution_count": 67,
   "metadata": {},
   "outputs": [
    {
     "name": "stdout",
     "output_type": "stream",
     "text": [
      "Overwriting ..\\src\\data\\get_titanic_raw_data_script.py\n"
     ]
    }
   ],
   "source": [
    "%%writefile $get_raw_data_script\n",
    "\n",
    "## write the script to the file\n",
    "##Import\n",
    "import os\n",
    "from dotenv import load_dotenv, find_dotenv\n",
    "import requests\n",
    "from requests import session\n",
    "import logging\n",
    "\n",
    "\n",
    "###Pay load\n",
    "payload ={\n",
    "    \"action\":\"login\",\n",
    "    \"username\": os.environ.get(\"KAGGLE_USERNAME\"),\n",
    "    \"password\": os.environ.get(\"KAGGLE_PASSWORD\")\n",
    "}\n",
    "\n",
    "def extract_data(url, file_path):\n",
    "    \"\"\"\n",
    "    Method to extract data from kaggle site\n",
    "    \"\"\"\n",
    "    with session() as c:\n",
    "        c.post(\"https://www.kaggle.com/account/login\", data=payload)\n",
    "        with open(file_path, 'w') as f:\n",
    "            response = c.get(url, stream = True)\n",
    "            for data in response.iter_content(1024):\n",
    "                f.write(data.decode(\"utf-8\"))\n",
    "\n",
    "\n",
    "                \n",
    "### Main method\n",
    "\n",
    "def main(project_dir):\n",
    "    \"\"\"\n",
    "     Main method\n",
    "    \"\"\"\n",
    "    logger = logging.getLogger(__name__)\n",
    "    logger.info(\"Downloading the raw data ..............\")\n",
    "    \n",
    "    #urls\n",
    "    ## URLS\n",
    "    train_url = \"https://www.kaggle.com/c/titanic/download/train.csv\"\n",
    "    test_url = \"https://www.kaggle.com/c/titanic/download/test.csv\"\n",
    "    \n",
    "    ## Csv file paths    \n",
    "    raw_data_path = os.path.join(project_dir, \"data\", \"raw\")\n",
    "    train_csv = os.path.join(raw_data_path, \"train.csv\")\n",
    "    test_csv = os.path.join(raw_data_path, \"test.csv\")\n",
    "    \n",
    "    ## extract data\n",
    "    extract_data(train_url, train_csv)\n",
    "    extract_data(test_url, test_csv)\n",
    "    logger.info(\"Downloaded raw data files \")\n",
    "\n",
    "    \n",
    "## Cal the main\n",
    "\n",
    "if __name__ == '__main__':\n",
    "    ##get the root directory    \n",
    "    project_dir = os.path.join(os.path.dirname(__file__), os.pardir, os.pardir)\n",
    "    \n",
    "    ## setup logger\n",
    "    log_fmt = '%(asctime)s - %(name)s - %(levelname)s - %(message)s'\n",
    "    logging.basicConfig(level=logging.INFO, format=log_fmt)\n",
    "    \n",
    "    ###load the env variable\n",
    "    dot_env_path = find_dotenv()\n",
    "    load_dotenv(dot_env_path)\n",
    "    \n",
    "    ##call main\n",
    "    main(project_dir)\n",
    "    \n"
   ]
  },
  {
   "cell_type": "code",
   "execution_count": 68,
   "metadata": {},
   "outputs": [
    {
     "name": "stderr",
     "output_type": "stream",
     "text": [
      "2019-07-12 20:23:17,874 - __main__ - INFO - Downloading the raw data ..............\n",
      "2019-07-12 20:23:21,974 - __main__ - INFO - Downloaded raw data files \n"
     ]
    }
   ],
   "source": [
    "!python $get_raw_data_script"
   ]
  },
  {
   "cell_type": "code",
   "execution_count": null,
   "metadata": {},
   "outputs": [],
   "source": []
  }
 ],
 "metadata": {
  "kernelspec": {
   "display_name": "Python 3",
   "language": "python",
   "name": "python3"
  },
  "language_info": {
   "codemirror_mode": {
    "name": "ipython",
    "version": 3
   },
   "file_extension": ".py",
   "mimetype": "text/x-python",
   "name": "python",
   "nbconvert_exporter": "python",
   "pygments_lexer": "ipython3",
   "version": "3.7.3"
  }
 },
 "nbformat": 4,
 "nbformat_minor": 2
}
